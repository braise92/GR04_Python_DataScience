{
 "cells": [
  {
   "cell_type": "code",
   "execution_count": null,
   "id": "196fa1a4",
   "metadata": {},
   "outputs": [],
   "source": [
    "from TP1 import scrape_financial_ratios,get_average_return,download_all_historical_data\n",
    "import json\n",
    "from datetime import date\n",
    "import pandas as pd\n",
    "from TP3 import apply_labeling_to_folder,preprocess_data,train_and_evaluate_models,train_random_forest_model,predict_today\n",
    "from TP2 import preprocess_financial_clustering,do_kmeans_clustering,do_hierarchical_clustering,prepare_returns_data,preprocess_risk_clustering\n",
    "from TP4 import predict as predict4\n",
    "from TP5 import predictfromfile as predict5\n",
    "from TP6 import update_news,get_three_most_recent_news\n",
    "from TP8 import get_daily_global_sentiment"
   ]
  },
  {
   "cell_type": "code",
   "execution_count": null,
   "id": "8002d31c",
   "metadata": {},
   "outputs": [
    {
     "name": "stdout",
     "output_type": "stream",
     "text": [
      "Scraping des ratios financiers...\n",
      "data/Companies_Historical_Data/\n",
      "Prétraitement et extraction des caractéristiques...\n",
      "Processing stock: Adobe, initial shape: (1235, 5)\n",
      "After adding indicators, shape: (1235, 14)\n",
      "After dropping NaN, shape: (1202, 14)\n",
      "Processing stock: Alibaba, initial shape: (1235, 5)\n",
      "After adding indicators, shape: (1235, 14)\n",
      "After dropping NaN, shape: (1202, 14)\n",
      "Processing stock: Alphabet, initial shape: (1235, 5)\n",
      "After adding indicators, shape: (1235, 14)\n",
      "After dropping NaN, shape: (1202, 14)\n",
      "Processing stock: Amazon, initial shape: (1235, 5)\n",
      "After adding indicators, shape: (1235, 14)\n",
      "After dropping NaN, shape: (1202, 14)\n",
      "Processing stock: AMD, initial shape: (1235, 5)\n",
      "After adding indicators, shape: (1235, 14)\n",
      "After dropping NaN, shape: (1202, 14)\n",
      "Processing stock: Apple, initial shape: (1235, 5)\n",
      "After adding indicators, shape: (1235, 14)\n",
      "After dropping NaN, shape: (1202, 14)\n",
      "Processing stock: ASML, initial shape: (1261, 5)\n",
      "After adding indicators, shape: (1261, 14)\n",
      "After dropping NaN, shape: (1228, 14)\n",
      "Processing stock: Baidu, initial shape: (1235, 5)\n",
      "After adding indicators, shape: (1235, 14)\n",
      "After dropping NaN, shape: (1202, 14)\n",
      "Processing stock: BYD, initial shape: (1235, 5)\n",
      "After adding indicators, shape: (1235, 14)\n",
      "After dropping NaN, shape: (1202, 14)\n",
      "Processing stock: Cisco, initial shape: (1235, 5)\n",
      "After adding indicators, shape: (1235, 14)\n",
      "After dropping NaN, shape: (1202, 14)\n",
      "Processing stock: ExxonMobil, initial shape: (1235, 5)\n",
      "After adding indicators, shape: (1235, 14)\n",
      "After dropping NaN, shape: (1202, 14)\n",
      "Processing stock: Goldman Sachs, initial shape: (1235, 5)\n",
      "After adding indicators, shape: (1235, 14)\n",
      "After dropping NaN, shape: (1202, 14)\n",
      "Processing stock: Hyundai, initial shape: (1235, 5)\n",
      "After adding indicators, shape: (1235, 14)\n",
      "After dropping NaN, shape: (1202, 14)\n",
      "Processing stock: IBM, initial shape: (1235, 5)\n",
      "After adding indicators, shape: (1235, 14)\n",
      "After dropping NaN, shape: (1202, 14)\n",
      "Processing stock: ICBC, initial shape: (1206, 5)\n",
      "After adding indicators, shape: (1206, 14)\n",
      "After dropping NaN, shape: (1173, 14)\n",
      "Processing stock: Intel, initial shape: (1235, 5)\n",
      "After adding indicators, shape: (1235, 14)\n",
      "After dropping NaN, shape: (1202, 14)\n",
      "Processing stock: JD, initial shape: (1235, 5)\n",
      "After adding indicators, shape: (1235, 14)\n",
      "After dropping NaN, shape: (1202, 14)\n",
      "Processing stock: Johnson & Johnson, initial shape: (1235, 5)\n",
      "After adding indicators, shape: (1235, 14)\n",
      "After dropping NaN, shape: (1202, 14)\n",
      "Processing stock: JP Morgan, initial shape: (1235, 5)\n",
      "After adding indicators, shape: (1235, 14)\n",
      "After dropping NaN, shape: (1202, 14)\n",
      "Processing stock: Louis Vuitton (LVMH), initial shape: (1261, 5)\n",
      "After adding indicators, shape: (1261, 14)\n",
      "After dropping NaN, shape: (1228, 14)\n",
      "Processing stock: Meta, initial shape: (1235, 5)\n",
      "After adding indicators, shape: (1235, 14)\n",
      "After dropping NaN, shape: (1202, 14)\n",
      "Processing stock: Microsoft, initial shape: (1235, 5)\n",
      "After adding indicators, shape: (1235, 14)\n",
      "After dropping NaN, shape: (1202, 14)\n",
      "Processing stock: Netflix, initial shape: (1235, 5)\n",
      "After adding indicators, shape: (1235, 14)\n",
      "After dropping NaN, shape: (1202, 14)\n",
      "Processing stock: Nintendo, initial shape: (1235, 5)\n",
      "After adding indicators, shape: (1235, 14)\n",
      "After dropping NaN, shape: (1202, 14)\n",
      "Processing stock: NVIDIA, initial shape: (1235, 5)\n",
      "After adding indicators, shape: (1235, 14)\n",
      "After dropping NaN, shape: (1202, 14)\n",
      "Processing stock: Oracle, initial shape: (1235, 5)\n",
      "After adding indicators, shape: (1235, 14)\n",
      "After dropping NaN, shape: (1202, 14)\n",
      "Processing stock: Pfizer, initial shape: (1235, 5)\n",
      "After adding indicators, shape: (1235, 14)\n",
      "After dropping NaN, shape: (1202, 14)\n",
      "Processing stock: Qualcomm, initial shape: (1235, 5)\n",
      "After adding indicators, shape: (1235, 14)\n",
      "After dropping NaN, shape: (1202, 14)\n",
      "Processing stock: Reliance Industries, initial shape: (1217, 5)\n",
      "After adding indicators, shape: (1217, 14)\n",
      "After dropping NaN, shape: (1184, 14)\n",
      "Processing stock: Samsung, initial shape: (1205, 5)\n",
      "After adding indicators, shape: (1205, 14)\n",
      "After dropping NaN, shape: (1172, 14)\n",
      "Processing stock: SAP, initial shape: (1253, 5)\n",
      "After adding indicators, shape: (1253, 14)\n",
      "After dropping NaN, shape: (1220, 14)\n",
      "Processing stock: Shell, initial shape: (1240, 5)\n",
      "After adding indicators, shape: (1240, 14)\n",
      "After dropping NaN, shape: (1207, 14)\n",
      "Processing stock: Siemens, initial shape: (1253, 5)\n",
      "After adding indicators, shape: (1253, 14)\n",
      "After dropping NaN, shape: (1220, 14)\n",
      "Processing stock: SoftBank, initial shape: (1201, 5)\n",
      "After adding indicators, shape: (1201, 14)\n",
      "After dropping NaN, shape: (1168, 14)\n",
      "Processing stock: Sony, initial shape: (1235, 5)\n",
      "After adding indicators, shape: (1235, 14)\n",
      "After dropping NaN, shape: (1202, 14)\n",
      "Processing stock: Tata Consultancy Services, initial shape: (1217, 5)\n",
      "After adding indicators, shape: (1217, 14)\n",
      "After dropping NaN, shape: (1184, 14)\n",
      "Processing stock: Tencent, initial shape: (1235, 5)\n",
      "After adding indicators, shape: (1235, 14)\n",
      "After dropping NaN, shape: (1202, 14)\n",
      "Processing stock: Tesla, initial shape: (1235, 5)\n",
      "After adding indicators, shape: (1235, 14)\n",
      "After dropping NaN, shape: (1202, 14)\n",
      "Processing stock: TotalEnergies, initial shape: (1261, 5)\n",
      "After adding indicators, shape: (1261, 14)\n",
      "After dropping NaN, shape: (1228, 14)\n",
      "Processing stock: Toyota, initial shape: (1235, 5)\n",
      "After adding indicators, shape: (1235, 14)\n",
      "After dropping NaN, shape: (1202, 14)\n",
      "Processing stock: Visa, initial shape: (1235, 5)\n",
      "After adding indicators, shape: (1235, 14)\n",
      "After dropping NaN, shape: (1202, 14)\n",
      "Final shapes - X: (49272, 12), y: (49272,)\n",
      "=== Random Forest ===\n",
      "              precision    recall  f1-score   support\n",
      "\n",
      "           0       0.71      0.52      0.60      2270\n",
      "           1       0.67      0.80      0.72      4574\n",
      "           2       0.67      0.60      0.64      3011\n",
      "\n",
      "    accuracy                           0.67      9855\n",
      "   macro avg       0.68      0.64      0.65      9855\n",
      "weighted avg       0.68      0.67      0.67      9855\n",
      "\n",
      "F1 Score (weighted): 0.6694\n"
     ]
    }
   ],
   "source": [
    "folder_path = \"data/Companies_Historical_Data/\"\n",
    "R=open(\"report.html\", \"w\")\n",
    "\n",
    "with open('data/companies.json', 'r') as file:\n",
    "    data = json.load(file)\n",
    "ratio_keys = [\n",
    "    \"forwardPE\", \"beta\", \"priceToBook\", \"priceToSales\", \"dividendYield\",\n",
    "    \"trailingEps\", \"debtToEquity\", \"currentRatio\", \"quickRatio\",\n",
    "    \"returnOnEquity\", \"returnOnAssets\", \"operatingMargins\", \"profitMargins\"\n",
    "]\n",
    "ratios=scrape_financial_ratios(data,ratio_keys)\n",
    "file_path = \"data/ratios_financiers.csv\"\n",
    "returns_folder = \"data/Companies_Historical_Data/\"\n",
    "data_financial, names_financial = preprocess_financial_clustering(file_path)\n",
    "fincluster=do_kmeans_clustering(data_financial, names_financial, n_clusters=5,show_graph=False)\n",
    "\n",
    "labeled_data = apply_labeling_to_folder(folder_path )\n",
    "print(\"Prétraitement et extraction des caractéristiques...\")\n",
    "X, y = preprocess_data(labeled_data)\n",
    "model, scaler= train_random_forest_model(X, y)\n"
   ]
  },
  {
   "cell_type": "code",
   "execution_count": 7,
   "id": "cc091a24",
   "metadata": {},
   "outputs": [
    {
     "name": "stderr",
     "output_type": "stream",
     "text": [
      "[*********************100%***********************]  1 of 1 completed\n"
     ]
    },
    {
     "name": "stdout",
     "output_type": "stream",
     "text": [
      "Trading signal for today (1254): HOLD\n"
     ]
    },
    {
     "name": "stderr",
     "output_type": "stream",
     "text": [
      "[*********************100%***********************]  1 of 1 completed\n"
     ]
    },
    {
     "name": "stdout",
     "output_type": "stream",
     "text": [
      "Trading signal for today (1254): HOLD\n"
     ]
    },
    {
     "name": "stderr",
     "output_type": "stream",
     "text": [
      "[*********************100%***********************]  1 of 1 completed\n"
     ]
    },
    {
     "name": "stdout",
     "output_type": "stream",
     "text": [
      "Trading signal for today (1254): HOLD\n"
     ]
    },
    {
     "name": "stderr",
     "output_type": "stream",
     "text": [
      "[*********************100%***********************]  1 of 1 completed\n"
     ]
    },
    {
     "name": "stdout",
     "output_type": "stream",
     "text": [
      "Trading signal for today (1254): HOLD\n"
     ]
    },
    {
     "name": "stderr",
     "output_type": "stream",
     "text": [
      "[*********************100%***********************]  1 of 1 completed\n"
     ]
    },
    {
     "name": "stdout",
     "output_type": "stream",
     "text": [
      "Trading signal for today (1254): HOLD\n"
     ]
    },
    {
     "name": "stderr",
     "output_type": "stream",
     "text": [
      "[*********************100%***********************]  1 of 1 completed\n"
     ]
    },
    {
     "name": "stdout",
     "output_type": "stream",
     "text": [
      "Trading signal for today (1254): SELL\n"
     ]
    },
    {
     "name": "stderr",
     "output_type": "stream",
     "text": [
      "[*********************100%***********************]  1 of 1 completed\n"
     ]
    },
    {
     "name": "stdout",
     "output_type": "stream",
     "text": [
      "Trading signal for today (1254): BUY\n"
     ]
    },
    {
     "name": "stderr",
     "output_type": "stream",
     "text": [
      "[*********************100%***********************]  1 of 1 completed\n"
     ]
    },
    {
     "name": "stdout",
     "output_type": "stream",
     "text": [
      "Trading signal for today (1224): HOLD\n"
     ]
    },
    {
     "name": "stderr",
     "output_type": "stream",
     "text": [
      "[*********************100%***********************]  1 of 1 completed\n"
     ]
    },
    {
     "name": "stdout",
     "output_type": "stream",
     "text": [
      "Trading signal for today (1254): HOLD\n"
     ]
    },
    {
     "name": "stderr",
     "output_type": "stream",
     "text": [
      "[*********************100%***********************]  1 of 1 completed\n"
     ]
    },
    {
     "name": "stdout",
     "output_type": "stream",
     "text": [
      "Trading signal for today (1254): SELL\n"
     ]
    },
    {
     "name": "stderr",
     "output_type": "stream",
     "text": [
      "[*********************100%***********************]  1 of 1 completed\n"
     ]
    },
    {
     "name": "stdout",
     "output_type": "stream",
     "text": [
      "Trading signal for today (1254): HOLD\n"
     ]
    },
    {
     "name": "stderr",
     "output_type": "stream",
     "text": [
      "[*********************100%***********************]  1 of 1 completed\n"
     ]
    },
    {
     "name": "stdout",
     "output_type": "stream",
     "text": [
      "Trading signal for today (1254): BUY\n"
     ]
    },
    {
     "name": "stderr",
     "output_type": "stream",
     "text": [
      "[*********************100%***********************]  1 of 1 completed\n"
     ]
    },
    {
     "name": "stdout",
     "output_type": "stream",
     "text": [
      "Trading signal for today (1254): BUY\n"
     ]
    },
    {
     "name": "stderr",
     "output_type": "stream",
     "text": [
      "[*********************100%***********************]  1 of 1 completed\n"
     ]
    },
    {
     "name": "stdout",
     "output_type": "stream",
     "text": [
      "Trading signal for today (1254): SELL\n"
     ]
    },
    {
     "name": "stderr",
     "output_type": "stream",
     "text": [
      "[*********************100%***********************]  1 of 1 completed\n"
     ]
    },
    {
     "name": "stdout",
     "output_type": "stream",
     "text": [
      "Trading signal for today (1254): BUY\n"
     ]
    },
    {
     "name": "stderr",
     "output_type": "stream",
     "text": [
      "[*********************100%***********************]  1 of 1 completed\n"
     ]
    },
    {
     "name": "stdout",
     "output_type": "stream",
     "text": [
      "Trading signal for today (1254): HOLD\n"
     ]
    },
    {
     "name": "stderr",
     "output_type": "stream",
     "text": [
      "[*********************100%***********************]  1 of 1 completed\n"
     ]
    },
    {
     "name": "stdout",
     "output_type": "stream",
     "text": [
      "Trading signal for today (1254): BUY\n"
     ]
    },
    {
     "name": "stderr",
     "output_type": "stream",
     "text": [
      "[*********************100%***********************]  1 of 1 completed\n"
     ]
    },
    {
     "name": "stdout",
     "output_type": "stream",
     "text": [
      "Trading signal for today (1254): SELL\n"
     ]
    },
    {
     "name": "stderr",
     "output_type": "stream",
     "text": [
      "[*********************100%***********************]  1 of 1 completed\n"
     ]
    },
    {
     "name": "stdout",
     "output_type": "stream",
     "text": [
      "Trading signal for today (1254): HOLD\n"
     ]
    },
    {
     "name": "stderr",
     "output_type": "stream",
     "text": [
      "[*********************100%***********************]  1 of 1 completed\n"
     ]
    },
    {
     "name": "stdout",
     "output_type": "stream",
     "text": [
      "Trading signal for today (1254): HOLD\n",
      "Aucun fichier trouvé pour JP Morgan\n"
     ]
    },
    {
     "name": "stderr",
     "output_type": "stream",
     "text": [
      "[*********************100%***********************]  1 of 1 completed\n"
     ]
    },
    {
     "name": "stdout",
     "output_type": "stream",
     "text": [
      "Trading signal for today (1254): BUY\n"
     ]
    },
    {
     "name": "stderr",
     "output_type": "stream",
     "text": [
      "[*********************100%***********************]  1 of 1 completed"
     ]
    },
    {
     "name": "stdout",
     "output_type": "stream",
     "text": [
      "Aucun fichier trouvé pour Goldman Sachs\n"
     ]
    },
    {
     "name": "stderr",
     "output_type": "stream",
     "text": [
      "\n"
     ]
    },
    {
     "name": "stdout",
     "output_type": "stream",
     "text": [
      "Trading signal for today (1254): HOLD\n"
     ]
    },
    {
     "name": "stderr",
     "output_type": "stream",
     "text": [
      "[*********************100%***********************]  1 of 1 completed\n"
     ]
    },
    {
     "name": "stdout",
     "output_type": "stream",
     "text": [
      "Trading signal for today (1254): HOLD\n"
     ]
    },
    {
     "name": "stderr",
     "output_type": "stream",
     "text": [
      "[*********************100%***********************]  1 of 1 completed"
     ]
    },
    {
     "name": "stdout",
     "output_type": "stream",
     "text": [
      "Aucun fichier trouvé pour Johnson & Johnson\n"
     ]
    },
    {
     "name": "stderr",
     "output_type": "stream",
     "text": [
      "\n"
     ]
    },
    {
     "name": "stdout",
     "output_type": "stream",
     "text": [
      "Trading signal for today (1254): BUY\n"
     ]
    },
    {
     "name": "stderr",
     "output_type": "stream",
     "text": [
      "[*********************100%***********************]  1 of 1 completed\n"
     ]
    },
    {
     "name": "stdout",
     "output_type": "stream",
     "text": [
      "Trading signal for today (1254): HOLD\n"
     ]
    },
    {
     "name": "stderr",
     "output_type": "stream",
     "text": [
      "[*********************100%***********************]  1 of 1 completed\n"
     ]
    },
    {
     "name": "stdout",
     "output_type": "stream",
     "text": [
      "Trading signal for today (1280): HOLD\n"
     ]
    },
    {
     "name": "stderr",
     "output_type": "stream",
     "text": [
      "[*********************100%***********************]  1 of 1 completed\n"
     ]
    },
    {
     "name": "stdout",
     "output_type": "stream",
     "text": [
      "Trading signal for today (1272): HOLD\n"
     ]
    },
    {
     "name": "stderr",
     "output_type": "stream",
     "text": [
      "[*********************100%***********************]  1 of 1 completed\n"
     ]
    },
    {
     "name": "stdout",
     "output_type": "stream",
     "text": [
      "Trading signal for today (1272): HOLD\n"
     ]
    },
    {
     "name": "stderr",
     "output_type": "stream",
     "text": [
      "[*********************100%***********************]  1 of 1 completed\n"
     ]
    },
    {
     "name": "stdout",
     "output_type": "stream",
     "text": [
      "Trading signal for today (1280): SELL\n"
     ]
    },
    {
     "name": "stderr",
     "output_type": "stream",
     "text": [
      "[*********************100%***********************]  1 of 1 completed"
     ]
    },
    {
     "name": "stdout",
     "output_type": "stream",
     "text": [
      "Aucun fichier trouvé pour Louis Vuitton (LVMH)\n"
     ]
    },
    {
     "name": "stderr",
     "output_type": "stream",
     "text": [
      "\n"
     ]
    },
    {
     "name": "stdout",
     "output_type": "stream",
     "text": [
      "Trading signal for today (1280): HOLD\n"
     ]
    },
    {
     "name": "stderr",
     "output_type": "stream",
     "text": [
      "[*********************100%***********************]  1 of 1 completed\n"
     ]
    },
    {
     "name": "stdout",
     "output_type": "stream",
     "text": [
      "Trading signal for today (1259): HOLD\n"
     ]
    },
    {
     "name": "stderr",
     "output_type": "stream",
     "text": [
      "[*********************100%***********************]  1 of 1 completed\n"
     ]
    },
    {
     "name": "stdout",
     "output_type": "stream",
     "text": [
      "Trading signal for today (1254): BUY\n"
     ]
    },
    {
     "name": "stderr",
     "output_type": "stream",
     "text": [
      "[*********************100%***********************]  1 of 1 completed\n"
     ]
    },
    {
     "name": "stdout",
     "output_type": "stream",
     "text": [
      "Trading signal for today (1254): HOLD\n"
     ]
    },
    {
     "name": "stderr",
     "output_type": "stream",
     "text": [
      "[*********************100%***********************]  1 of 1 completed\n"
     ]
    },
    {
     "name": "stdout",
     "output_type": "stream",
     "text": [
      "Trading signal for today (1254): BUY\n"
     ]
    },
    {
     "name": "stderr",
     "output_type": "stream",
     "text": [
      "[*********************100%***********************]  1 of 1 completed\n"
     ]
    },
    {
     "name": "stdout",
     "output_type": "stream",
     "text": [
      "Trading signal for today (1225): HOLD\n"
     ]
    },
    {
     "name": "stderr",
     "output_type": "stream",
     "text": [
      "[*********************100%***********************]  1 of 1 completed\n"
     ]
    },
    {
     "name": "stdout",
     "output_type": "stream",
     "text": [
      "Trading signal for today (1254): HOLD\n"
     ]
    },
    {
     "name": "stderr",
     "output_type": "stream",
     "text": [
      "[*********************100%***********************]  1 of 1 completed\n"
     ]
    },
    {
     "name": "stdout",
     "output_type": "stream",
     "text": [
      "Trading signal for today (1220): BUY\n"
     ]
    },
    {
     "name": "stderr",
     "output_type": "stream",
     "text": [
      "[*********************100%***********************]  1 of 1 completed\n"
     ]
    },
    {
     "name": "stdout",
     "output_type": "stream",
     "text": [
      "Trading signal for today (1254): BUY\n"
     ]
    },
    {
     "name": "stderr",
     "output_type": "stream",
     "text": [
      "[*********************100%***********************]  1 of 1 completed\n"
     ]
    },
    {
     "name": "stdout",
     "output_type": "stream",
     "text": [
      "Trading signal for today (1254): HOLD\n"
     ]
    },
    {
     "name": "stderr",
     "output_type": "stream",
     "text": [
      "[*********************100%***********************]  1 of 1 completed\n"
     ]
    },
    {
     "name": "stdout",
     "output_type": "stream",
     "text": [
      "Trading signal for today (1236): HOLD\n",
      "Aucun fichier trouvé pour Reliance Industries\n"
     ]
    },
    {
     "name": "stderr",
     "output_type": "stream",
     "text": [
      "[*********************100%***********************]  1 of 1 completed\n"
     ]
    },
    {
     "name": "stdout",
     "output_type": "stream",
     "text": [
      "Trading signal for today (1236): SELL\n",
      "Aucun fichier trouvé pour Tata Consultancy Services\n"
     ]
    },
    {
     "data": {
      "text/plain": [
       "14"
      ]
     },
     "execution_count": 7,
     "metadata": {},
     "output_type": "execute_result"
    }
   ],
   "source": [
    "from datetime import date\n",
    "\n",
    "R.write(\"\"\"\n",
    "<!DOCTYPE html>\n",
    "<html lang=\"fr\">\n",
    "<head>\n",
    "    <meta charset=\"UTF-8\">\n",
    "    <title>Rapport Financier</title>\n",
    "    <style>\n",
    "        body { font-family: Arial, sans-serif; background-color: #f9f9f9; padding: 20px; color: #333; }\n",
    "        h1 { text-align: center; color: #2c3e50; }\n",
    "        .company-card { background: #fff; border-radius: 10px; box-shadow: 0 4px 8px rgba(0,0,0,0.05); margin: 20px 0; padding: 20px; }\n",
    "        h2 { color: #2980b9; }\n",
    "        h3 { margin-top: 20px; color: #34495e; }\n",
    "        ul { line-height: 1.6; }\n",
    "        li { margin-bottom: 5px; }\n",
    "        .green { color: green; font-weight: bold; }\n",
    "        .red { color: red; font-weight: bold; }\n",
    "        .yellow { color: goldenrod; font-weight: bold; }\n",
    "        .news-title { font-weight: bold; color: #2c3e50; }\n",
    "        .news-description { margin: 5px 0 10px 0; }\n",
    "    </style>\n",
    "</head>\n",
    "<body>\n",
    "\"\"\")\n",
    "\n",
    "R.write(f\"<h1>Rapport du {date.today().strftime('%d/%m/%Y')}</h1>\")\n",
    "\n",
    "for company, row in ratios.iterrows():\n",
    "    R.write('<div class=\"company-card\">')\n",
    "    R.write(f\"<h2>Entreprise : {company}</h2>\")\n",
    "    \n",
    "    R.write(\"<h3>Ratios Importants :</h3><ul>\")\n",
    "    for ratio in ratios.columns:\n",
    "        value = row[ratio]\n",
    "        if pd.notnull(value): \n",
    "            R.write(f\"<li>{ratio} : {value:.2f}</li>\")\n",
    "    R.write(\"</ul>\")\n",
    "\n",
    "    avg_return = get_average_return(data[company])\n",
    "    R.write(f\"<h3>Rendement journalier moyen : {avg_return:.2%}</h3>\")\n",
    "\n",
    "    if company in fincluster[\"Name\"].values:\n",
    "        cluster_id = fincluster.loc[fincluster[\"Name\"] == company, \"Cluster\"].values[0]\n",
    "        same_cluster_companies = fincluster[fincluster[\"Cluster\"] == cluster_id][\"Name\"].tolist()\n",
    "        same_cluster_companies = [name for name in same_cluster_companies if name != company]\n",
    "        if same_cluster_companies:\n",
    "            R.write(f\"<h3>Entreprises semblables (profils financiers) :</h3><p>{', '.join(same_cluster_companies)}</p>\")\n",
    "        else:\n",
    "            R.write(\"<h3>Entreprises semblables (profils financiers) :</h3><p>Aucune</p>\")\n",
    "    else:\n",
    "        R.write(\"<h3>Entreprises semblables (profils financiers) :</h3><p>Aucune</p>\")\n",
    "\n",
    "    _, action = predict_today(f\"data/Companies_Historical_Data/{company}.csv\")\n",
    "    R.write(\"<h3>Conseil d’investissement :</h3>\")\n",
    "    if action == \"HOLD\":\n",
    "        R.write('<p class=\"yellow\">Hold</p>')\n",
    "    elif action == \"SELL\":\n",
    "        R.write('<p class=\"red\">Vente</p>')\n",
    "    else:\n",
    "        R.write('<p class=\"green\">Achat</p>')\n",
    "\n",
    "    prediction4 = predict4(company)\n",
    "    price_prediction = (float(prediction4['XGBoost']) + float(prediction4['RandomForest']) + float(prediction4['KNN'])) / 3\n",
    "    R.write(f\"<h3>Prédiction du prix de demain :</h3><p>{price_prediction:.2f} €</p>\")\n",
    "\n",
    "    news = get_three_most_recent_news(company)\n",
    "    R.write(\"<h3>Actualités :</h3><ul>\")\n",
    "    for newss in news:\n",
    "        R.write(f\"\"\"\n",
    "            <li>\n",
    "                <div class=\"news-title\">{newss['title']}</div>\n",
    "                <div class=\"news-description\">{newss['description']}</div>\n",
    "                <small>{newss['publishedAt']}</small>\n",
    "            </li>\n",
    "        \"\"\")\n",
    "    R.write(\"</ul>\")\n",
    "\n",
    "    sentiment = get_daily_global_sentiment(company, f\"data/news/JSONS/{company.replace(\" \",\"_\")}_news.json\", \"ProsusAI_finetuned/model.safetensors\", method=\"average\")\n",
    "    R.write(f\"<h3>Sentiment sur l’actualité du jour :</h3><p>{sentiment}</p>\")\n",
    "\n",
    "    R.write(\"</div>\")  # End of company card\n",
    "\n",
    "R.write(\"</body></html>\")\n"
   ]
  }
 ],
 "metadata": {
  "kernelspec": {
   "display_name": "StatProduitsDerivees",
   "language": "python",
   "name": "python3"
  },
  "language_info": {
   "codemirror_mode": {
    "name": "ipython",
    "version": 3
   },
   "file_extension": ".py",
   "mimetype": "text/x-python",
   "name": "python",
   "nbconvert_exporter": "python",
   "pygments_lexer": "ipython3",
   "version": "3.12.3"
  }
 },
 "nbformat": 4,
 "nbformat_minor": 5
}

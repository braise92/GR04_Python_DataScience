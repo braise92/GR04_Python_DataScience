{
 "cells": [
  {
   "cell_type": "code",
   "execution_count": 3,
   "id": "196fa1a4",
   "metadata": {},
   "outputs": [],
   "source": [
    "from TP1 import scrape_financial_ratios,get_average_return,download_all_historical_data\n",
    "import json\n",
    "from datetime import date\n",
    "import pandas as pd\n",
    "from TP3 import apply_labeling_to_folder,preprocess_data,train_and_evaluate_models,train_random_forest_model,predict_today\n",
    "from TP2 import preprocess_financial_clustering,do_kmeans_clustering,do_hierarchical_clustering,prepare_returns_data,preprocess_risk_clustering\n",
    "from TP4 import predict as predict4\n",
    "from TP5 import predict as predict5"
   ]
  },
  {
   "cell_type": "code",
   "execution_count": 4,
   "id": "2352948b",
   "metadata": {},
   "outputs": [],
   "source": [
    "folder_path = \"data/Companies_Historical_Data/\"\n",
    "\n",
    "\n"
   ]
  },
  {
   "cell_type": "code",
   "execution_count": 5,
   "id": "8002d31c",
   "metadata": {},
   "outputs": [
    {
     "name": "stdout",
     "output_type": "stream",
     "text": [
      "Scraping des ratios financiers...\n",
      "data/Companies_Historical_Data/\n",
      "Prétraitement et extraction des caractéristiques...\n",
      "Processing stock: Adobe, initial shape: (1235, 5)\n",
      "After adding indicators, shape: (1235, 14)\n",
      "After dropping NaN, shape: (1202, 14)\n",
      "Processing stock: Alibaba, initial shape: (1235, 5)\n",
      "After adding indicators, shape: (1235, 14)\n",
      "After dropping NaN, shape: (1202, 14)\n",
      "Processing stock: Alphabet, initial shape: (1235, 5)\n",
      "After adding indicators, shape: (1235, 14)\n",
      "After dropping NaN, shape: (1202, 14)\n",
      "Processing stock: Amazon, initial shape: (1235, 5)\n",
      "After adding indicators, shape: (1235, 14)\n",
      "After dropping NaN, shape: (1202, 14)\n",
      "Processing stock: AMD, initial shape: (1235, 5)\n",
      "After adding indicators, shape: (1235, 14)\n",
      "After dropping NaN, shape: (1202, 14)\n",
      "Processing stock: Apple, initial shape: (1235, 5)\n",
      "After adding indicators, shape: (1235, 14)\n",
      "After dropping NaN, shape: (1202, 14)\n",
      "Processing stock: ASML, initial shape: (1261, 5)\n",
      "After adding indicators, shape: (1261, 14)\n",
      "After dropping NaN, shape: (1228, 14)\n",
      "Processing stock: Baidu, initial shape: (1235, 5)\n",
      "After adding indicators, shape: (1235, 14)\n",
      "After dropping NaN, shape: (1202, 14)\n",
      "Processing stock: BYD, initial shape: (1235, 5)\n",
      "After adding indicators, shape: (1235, 14)\n",
      "After dropping NaN, shape: (1202, 14)\n",
      "Processing stock: Cisco, initial shape: (1235, 5)\n",
      "After adding indicators, shape: (1235, 14)\n",
      "After dropping NaN, shape: (1202, 14)\n",
      "Processing stock: ExxonMobil, initial shape: (1235, 5)\n",
      "After adding indicators, shape: (1235, 14)\n",
      "After dropping NaN, shape: (1202, 14)\n",
      "Processing stock: Goldman Sachs, initial shape: (1235, 5)\n",
      "After adding indicators, shape: (1235, 14)\n",
      "After dropping NaN, shape: (1202, 14)\n",
      "Processing stock: Hyundai, initial shape: (1235, 5)\n",
      "After adding indicators, shape: (1235, 14)\n",
      "After dropping NaN, shape: (1202, 14)\n",
      "Processing stock: IBM, initial shape: (1235, 5)\n",
      "After adding indicators, shape: (1235, 14)\n",
      "After dropping NaN, shape: (1202, 14)\n",
      "Processing stock: ICBC, initial shape: (1206, 5)\n",
      "After adding indicators, shape: (1206, 14)\n",
      "After dropping NaN, shape: (1173, 14)\n",
      "Processing stock: Intel, initial shape: (1235, 5)\n",
      "After adding indicators, shape: (1235, 14)\n",
      "After dropping NaN, shape: (1202, 14)\n",
      "Processing stock: JD, initial shape: (1235, 5)\n",
      "After adding indicators, shape: (1235, 14)\n",
      "After dropping NaN, shape: (1202, 14)\n",
      "Processing stock: Johnson & Johnson, initial shape: (1235, 5)\n",
      "After adding indicators, shape: (1235, 14)\n",
      "After dropping NaN, shape: (1202, 14)\n",
      "Processing stock: JP Morgan, initial shape: (1235, 5)\n",
      "After adding indicators, shape: (1235, 14)\n",
      "After dropping NaN, shape: (1202, 14)\n",
      "Processing stock: Louis Vuitton (LVMH), initial shape: (1261, 5)\n",
      "After adding indicators, shape: (1261, 14)\n",
      "After dropping NaN, shape: (1228, 14)\n",
      "Processing stock: Meta, initial shape: (1235, 5)\n",
      "After adding indicators, shape: (1235, 14)\n",
      "After dropping NaN, shape: (1202, 14)\n",
      "Processing stock: Microsoft, initial shape: (1235, 5)\n",
      "After adding indicators, shape: (1235, 14)\n",
      "After dropping NaN, shape: (1202, 14)\n",
      "Processing stock: Netflix, initial shape: (1235, 5)\n",
      "After adding indicators, shape: (1235, 14)\n",
      "After dropping NaN, shape: (1202, 14)\n",
      "Processing stock: Nintendo, initial shape: (1235, 5)\n",
      "After adding indicators, shape: (1235, 14)\n",
      "After dropping NaN, shape: (1202, 14)\n",
      "Processing stock: NVIDIA, initial shape: (1235, 5)\n",
      "After adding indicators, shape: (1235, 14)\n",
      "After dropping NaN, shape: (1202, 14)\n",
      "Processing stock: Oracle, initial shape: (1235, 5)\n",
      "After adding indicators, shape: (1235, 14)\n",
      "After dropping NaN, shape: (1202, 14)\n",
      "Processing stock: Pfizer, initial shape: (1235, 5)\n",
      "After adding indicators, shape: (1235, 14)\n",
      "After dropping NaN, shape: (1202, 14)\n",
      "Processing stock: Qualcomm, initial shape: (1235, 5)\n",
      "After adding indicators, shape: (1235, 14)\n",
      "After dropping NaN, shape: (1202, 14)\n",
      "Processing stock: Reliance Industries, initial shape: (1217, 5)\n",
      "After adding indicators, shape: (1217, 14)\n",
      "After dropping NaN, shape: (1184, 14)\n",
      "Processing stock: Samsung, initial shape: (1205, 5)\n",
      "After adding indicators, shape: (1205, 14)\n",
      "After dropping NaN, shape: (1172, 14)\n",
      "Processing stock: SAP, initial shape: (1253, 5)\n",
      "After adding indicators, shape: (1253, 14)\n",
      "After dropping NaN, shape: (1220, 14)\n",
      "Processing stock: Shell, initial shape: (1240, 5)\n",
      "After adding indicators, shape: (1240, 14)\n",
      "After dropping NaN, shape: (1207, 14)\n",
      "Processing stock: Siemens, initial shape: (1253, 5)\n",
      "After adding indicators, shape: (1253, 14)\n",
      "After dropping NaN, shape: (1220, 14)\n",
      "Processing stock: SoftBank, initial shape: (1201, 5)\n",
      "After adding indicators, shape: (1201, 14)\n",
      "After dropping NaN, shape: (1168, 14)\n",
      "Processing stock: Sony, initial shape: (1235, 5)\n",
      "After adding indicators, shape: (1235, 14)\n",
      "After dropping NaN, shape: (1202, 14)\n",
      "Processing stock: Tata Consultancy Services, initial shape: (1217, 5)\n",
      "After adding indicators, shape: (1217, 14)\n",
      "After dropping NaN, shape: (1184, 14)\n",
      "Processing stock: Tencent, initial shape: (1235, 5)\n",
      "After adding indicators, shape: (1235, 14)\n",
      "After dropping NaN, shape: (1202, 14)\n",
      "Processing stock: Tesla, initial shape: (1235, 5)\n",
      "After adding indicators, shape: (1235, 14)\n",
      "After dropping NaN, shape: (1202, 14)\n",
      "Processing stock: TotalEnergies, initial shape: (1261, 5)\n",
      "After adding indicators, shape: (1261, 14)\n",
      "After dropping NaN, shape: (1228, 14)\n",
      "Processing stock: Toyota, initial shape: (1235, 5)\n",
      "After adding indicators, shape: (1235, 14)\n",
      "After dropping NaN, shape: (1202, 14)\n",
      "Processing stock: Visa, initial shape: (1235, 5)\n",
      "After adding indicators, shape: (1235, 14)\n",
      "After dropping NaN, shape: (1202, 14)\n",
      "Final shapes - X: (49272, 12), y: (49272,)\n",
      "=== Random Forest ===\n",
      "              precision    recall  f1-score   support\n",
      "\n",
      "           0       0.70      0.52      0.60      2270\n",
      "           1       0.66      0.79      0.72      4574\n",
      "           2       0.67      0.60      0.64      3011\n",
      "\n",
      "    accuracy                           0.67      9855\n",
      "   macro avg       0.68      0.64      0.65      9855\n",
      "weighted avg       0.67      0.67      0.67      9855\n",
      "\n",
      "F1 Score (weighted): 0.6670\n"
     ]
    }
   ],
   "source": [
    "R=open(\"report.html\", \"w\")\n",
    "R.write(f\"<h1>Report du {date.today()}</h1>\")\n",
    "\n",
    "with open('data/companies.json', 'r') as file:\n",
    "    data = json.load(file)\n",
    "ratio_keys = [\n",
    "    \"forwardPE\", \"beta\", \"priceToBook\", \"priceToSales\", \"dividendYield\",\n",
    "    \"trailingEps\", \"debtToEquity\", \"currentRatio\", \"quickRatio\",\n",
    "    \"returnOnEquity\", \"returnOnAssets\", \"operatingMargins\", \"profitMargins\"\n",
    "]\n",
    "ratios=scrape_financial_ratios(data,ratio_keys)\n",
    "file_path = \"data/ratios_financiers.csv\"\n",
    "returns_folder = \"data/Companies_Historical_Data/\"\n",
    "data_financial, names_financial = preprocess_financial_clustering(file_path)\n",
    "fincluster=do_kmeans_clustering(data_financial, names_financial, n_clusters=5,show_graph=False)\n",
    "\n",
    "labeled_data = apply_labeling_to_folder(folder_path )\n",
    "print(\"Prétraitement et extraction des caractéristiques...\")\n",
    "X, y = preprocess_data(labeled_data)\n",
    "model, scaler= train_random_forest_model(X, y)\n"
   ]
  },
  {
   "cell_type": "code",
   "execution_count": null,
   "id": "cc091a24",
   "metadata": {},
   "outputs": [
    {
     "name": "stderr",
     "output_type": "stream",
     "text": [
      "[*********************100%***********************]  1 of 1 completed"
     ]
    },
    {
     "name": "stdout",
     "output_type": "stream",
     "text": [
      "AAPL\n"
     ]
    },
    {
     "name": "stderr",
     "output_type": "stream",
     "text": [
      "\n"
     ]
    },
    {
     "name": "stdout",
     "output_type": "stream",
     "text": [
      "Trading signal for today (1254): HOLD\n",
      "{'XGBoost': np.float32(186.94073), 'RandomForest': np.float64(193.76325073242182), 'KNN': np.float64(186.21830139160159)}\n",
      "\u001b[1m1/1\u001b[0m \u001b[32m━━━━━━━━━━━━━━━━━━━━\u001b[0m\u001b[37m\u001b[0m \u001b[1m0s\u001b[0m 239ms/step\n",
      "MSFT\n"
     ]
    },
    {
     "name": "stderr",
     "output_type": "stream",
     "text": [
      "[*********************100%***********************]  1 of 1 completed\n"
     ]
    },
    {
     "name": "stdout",
     "output_type": "stream",
     "text": [
      "Trading signal for today (1254): HOLD\n",
      "{'XGBoost': np.float32(414.32248), 'RandomForest': np.float64(416.71330566406243), 'KNN': np.float64(407.31427001953125)}\n",
      "\u001b[1m1/1\u001b[0m \u001b[32m━━━━━━━━━━━━━━━━━━━━\u001b[0m\u001b[37m\u001b[0m \u001b[1m0s\u001b[0m 170ms/step\n",
      "AMZN\n"
     ]
    },
    {
     "name": "stderr",
     "output_type": "stream",
     "text": [
      "[*********************100%***********************]  1 of 1 completed\n"
     ]
    },
    {
     "name": "stdout",
     "output_type": "stream",
     "text": [
      "Trading signal for today (1254): HOLD\n",
      "{'XGBoost': np.float32(185.00548), 'RandomForest': np.float64(184.17236572265628), 'KNN': np.float64(185.34200439453124)}\n",
      "\u001b[1m1/1\u001b[0m \u001b[32m━━━━━━━━━━━━━━━━━━━━\u001b[0m\u001b[37m\u001b[0m \u001b[1m0s\u001b[0m 177ms/step\n",
      "GOOGL\n"
     ]
    },
    {
     "name": "stderr",
     "output_type": "stream",
     "text": [
      "[*********************100%***********************]  1 of 1 completed\n"
     ]
    },
    {
     "name": "stdout",
     "output_type": "stream",
     "text": [
      "Trading signal for today (1254): HOLD\n",
      "{'XGBoost': np.float32(163.71574), 'RandomForest': np.float64(164.76098495483396), 'KNN': np.float64(164.969287109375)}\n",
      "\u001b[1m1/1\u001b[0m \u001b[32m━━━━━━━━━━━━━━━━━━━━\u001b[0m\u001b[37m\u001b[0m \u001b[1m0s\u001b[0m 200ms/step\n",
      "META\n"
     ]
    },
    {
     "name": "stderr",
     "output_type": "stream",
     "text": [
      "[*********************100%***********************]  1 of 1 completed\n"
     ]
    },
    {
     "name": "stdout",
     "output_type": "stream",
     "text": [
      "Trading signal for today (1254): HOLD\n",
      "{'XGBoost': np.float32(456.70987), 'RandomForest': np.float64(505.9628814697265), 'KNN': np.float64(495.61793823242186)}\n",
      "\u001b[1m1/1\u001b[0m \u001b[32m━━━━━━━━━━━━━━━━━━━━\u001b[0m\u001b[37m\u001b[0m \u001b[1m0s\u001b[0m 190ms/step\n",
      "TSLA\n"
     ]
    },
    {
     "name": "stderr",
     "output_type": "stream",
     "text": [
      "[*********************100%***********************]  1 of 1 completed\n"
     ]
    },
    {
     "name": "stdout",
     "output_type": "stream",
     "text": [
      "Trading signal for today (1254): BUY\n",
      "{'XGBoost': np.float32(338.5737), 'RandomForest': np.float64(353.1782662963866), 'KNN': np.float64(343.7293334960937)}\n",
      "\u001b[1m1/1\u001b[0m \u001b[32m━━━━━━━━━━━━━━━━━━━━\u001b[0m\u001b[37m\u001b[0m \u001b[1m0s\u001b[0m 178ms/step\n",
      "NVDA\n"
     ]
    },
    {
     "name": "stderr",
     "output_type": "stream",
     "text": [
      "[*********************100%***********************]  1 of 1 completed\n"
     ]
    },
    {
     "name": "stdout",
     "output_type": "stream",
     "text": [
      "Trading signal for today (1254): BUY\n",
      "{'XGBoost': np.float32(84.76675), 'RandomForest': np.float64(87.77573379516598), 'KNN': np.float64(86.0333267211914)}\n",
      "\u001b[1m1/1\u001b[0m \u001b[32m━━━━━━━━━━━━━━━━━━━━\u001b[0m\u001b[37m\u001b[0m \u001b[1m0s\u001b[0m 204ms/step\n",
      "005930.KS\n"
     ]
    },
    {
     "name": "stderr",
     "output_type": "stream",
     "text": [
      "[*********************100%***********************]  1 of 1 completed\n"
     ]
    },
    {
     "name": "stdout",
     "output_type": "stream",
     "text": [
      "Trading signal for today (1224): HOLD\n",
      "{'XGBoost': np.float32(56869.2), 'RandomForest': np.float64(57707.32125000001), 'KNN': np.float64(57609.76328125)}\n",
      "\u001b[1m1/1\u001b[0m \u001b[32m━━━━━━━━━━━━━━━━━━━━\u001b[0m\u001b[37m\u001b[0m \u001b[1m0s\u001b[0m 187ms/step\n",
      "TCEHY\n"
     ]
    },
    {
     "name": "stderr",
     "output_type": "stream",
     "text": [
      "[*********************100%***********************]  1 of 1 completed\n"
     ]
    },
    {
     "name": "stdout",
     "output_type": "stream",
     "text": [
      "Trading signal for today (1254): HOLD\n",
      "{'XGBoost': np.float32(67.238976), 'RandomForest': np.float64(68.91453163146979), 'KNN': np.float64(67.52174530029296)}\n",
      "\u001b[1m1/1\u001b[0m \u001b[32m━━━━━━━━━━━━━━━━━━━━\u001b[0m\u001b[37m\u001b[0m \u001b[1m0s\u001b[0m 179ms/step\n",
      "BABA\n"
     ]
    },
    {
     "name": "stderr",
     "output_type": "stream",
     "text": [
      "[*********************100%***********************]  1 of 1 completed\n"
     ]
    },
    {
     "name": "stdout",
     "output_type": "stream",
     "text": [
      "Trading signal for today (1254): SELL\n",
      "{'XGBoost': np.float32(127.522644), 'RandomForest': np.float64(132.02306968688967), 'KNN': np.float64(117.26868286132812)}\n",
      "\u001b[1m1/1\u001b[0m \u001b[32m━━━━━━━━━━━━━━━━━━━━\u001b[0m\u001b[37m\u001b[0m \u001b[1m0s\u001b[0m 172ms/step\n",
      "IBM\n"
     ]
    },
    {
     "name": "stderr",
     "output_type": "stream",
     "text": [
      "[*********************100%***********************]  1 of 1 completed\n"
     ]
    },
    {
     "name": "stdout",
     "output_type": "stream",
     "text": [
      "Trading signal for today (1254): HOLD\n",
      "{'XGBoost': np.float32(181.19504), 'RandomForest': np.float64(183.8903060913086), 'KNN': np.float64(179.4008575439453)}\n",
      "\u001b[1m1/1\u001b[0m \u001b[32m━━━━━━━━━━━━━━━━━━━━\u001b[0m\u001b[37m\u001b[0m \u001b[1m0s\u001b[0m 167ms/step\n",
      "INTC\n"
     ]
    },
    {
     "name": "stderr",
     "output_type": "stream",
     "text": [
      "[*********************100%***********************]  1 of 1 completed\n"
     ]
    },
    {
     "name": "stdout",
     "output_type": "stream",
     "text": [
      "Trading signal for today (1254): HOLD\n",
      "{'XGBoost': np.float32(27.381182), 'RandomForest': np.float64(26.379633998870844), 'KNN': np.float64(26.839630889892575)}\n",
      "\u001b[1m1/1\u001b[0m \u001b[32m━━━━━━━━━━━━━━━━━━━━\u001b[0m\u001b[37m\u001b[0m \u001b[1m0s\u001b[0m 185ms/step\n",
      "ORCL\n"
     ]
    },
    {
     "name": "stderr",
     "output_type": "stream",
     "text": [
      "[*********************100%***********************]  1 of 1 completed\n"
     ]
    },
    {
     "name": "stdout",
     "output_type": "stream",
     "text": [
      "Trading signal for today (1254): BUY\n",
      "{'XGBoost': np.float32(118.033066), 'RandomForest': np.float64(121.88186439514156), 'KNN': np.float64(117.93884277343749)}\n",
      "\u001b[1m1/1\u001b[0m \u001b[32m━━━━━━━━━━━━━━━━━━━━\u001b[0m\u001b[37m\u001b[0m \u001b[1m0s\u001b[0m 175ms/step\n",
      "SONY\n"
     ]
    },
    {
     "name": "stderr",
     "output_type": "stream",
     "text": [
      "[*********************100%***********************]  1 of 1 completed\n"
     ]
    },
    {
     "name": "stdout",
     "output_type": "stream",
     "text": [
      "Trading signal for today (1254): SELL\n",
      "{'XGBoost': np.float32(24.911148), 'RandomForest': np.float64(24.669143810272214), 'KNN': np.float64(24.16708335876465)}\n",
      "\u001b[1m1/1\u001b[0m \u001b[32m━━━━━━━━━━━━━━━━━━━━\u001b[0m\u001b[37m\u001b[0m \u001b[1m0s\u001b[0m 186ms/step\n",
      "ADBE\n"
     ]
    },
    {
     "name": "stderr",
     "output_type": "stream",
     "text": [
      "[*********************100%***********************]  1 of 1 completed\n"
     ]
    },
    {
     "name": "stdout",
     "output_type": "stream",
     "text": [
      "Trading signal for today (1254): BUY\n",
      "{'XGBoost': np.float32(399.3799), 'RandomForest': np.float64(402.1279989624024), 'KNN': np.float64(372.997998046875)}\n",
      "\u001b[1m1/1\u001b[0m \u001b[32m━━━━━━━━━━━━━━━━━━━━\u001b[0m\u001b[37m\u001b[0m \u001b[1m0s\u001b[0m 236ms/step\n",
      "NFLX\n"
     ]
    },
    {
     "name": "stderr",
     "output_type": "stream",
     "text": [
      "[*********************100%***********************]  1 of 1 completed\n"
     ]
    },
    {
     "name": "stdout",
     "output_type": "stream",
     "text": [
      "Trading signal for today (1254): HOLD\n",
      "{'XGBoost': np.float32(635.1788), 'RandomForest': np.float64(660.9687133789057), 'KNN': np.float64(649.4880126953126)}\n",
      "\u001b[1m1/1\u001b[0m \u001b[32m━━━━━━━━━━━━━━━━━━━━\u001b[0m\u001b[37m\u001b[0m \u001b[1m0s\u001b[0m 273ms/step\n",
      "AMD\n"
     ]
    },
    {
     "name": "stderr",
     "output_type": "stream",
     "text": [
      "[*********************100%***********************]  1 of 1 completed\n"
     ]
    },
    {
     "name": "stdout",
     "output_type": "stream",
     "text": [
      "Trading signal for today (1254): BUY\n",
      "{'XGBoost': np.float32(116.09293), 'RandomForest': np.float64(117.18309913635252), 'KNN': np.float64(116.71599884033202)}\n",
      "\u001b[1m1/1\u001b[0m \u001b[32m━━━━━━━━━━━━━━━━━━━━\u001b[0m\u001b[37m\u001b[0m \u001b[1m0s\u001b[0m 176ms/step\n",
      "QCOM\n"
     ]
    },
    {
     "name": "stderr",
     "output_type": "stream",
     "text": [
      "[*********************100%***********************]  1 of 1 completed\n"
     ]
    },
    {
     "name": "stdout",
     "output_type": "stream",
     "text": [
      "Trading signal for today (1254): SELL\n",
      "{'XGBoost': np.float32(153.93803), 'RandomForest': np.float64(153.36001296997068), 'KNN': np.float64(148.50269470214843)}\n",
      "\u001b[1m1/1\u001b[0m \u001b[32m━━━━━━━━━━━━━━━━━━━━\u001b[0m\u001b[37m\u001b[0m \u001b[1m0s\u001b[0m 255ms/step\n",
      "CSCO\n"
     ]
    },
    {
     "name": "stderr",
     "output_type": "stream",
     "text": [
      "[*********************100%***********************]  1 of 1 completed\n"
     ]
    },
    {
     "name": "stdout",
     "output_type": "stream",
     "text": [
      "Trading signal for today (1254): BUY\n",
      "{'XGBoost': np.float32(55.512756), 'RandomForest': np.float64(55.94723613739015), 'KNN': np.float64(53.30281448364258)}\n",
      "\u001b[1m1/1\u001b[0m \u001b[32m━━━━━━━━━━━━━━━━━━━━\u001b[0m\u001b[37m\u001b[0m \u001b[1m0s\u001b[0m 226ms/step\n",
      "JPM\n"
     ]
    },
    {
     "name": "stderr",
     "output_type": "stream",
     "text": [
      "[*********************100%***********************]  1 of 1 completed\n"
     ]
    },
    {
     "name": "stdout",
     "output_type": "stream",
     "text": [
      "Trading signal for today (1254): HOLD\n",
      "{'XGBoost': np.float32(187.48032), 'RandomForest': np.float64(187.2948510742187), 'KNN': np.float64(183.22662048339845)}\n",
      "\u001b[1m1/1\u001b[0m \u001b[32m━━━━━━━━━━━━━━━━━━━━\u001b[0m\u001b[37m\u001b[0m \u001b[1m0s\u001b[0m 180ms/step\n",
      "GS\n"
     ]
    },
    {
     "name": "stderr",
     "output_type": "stream",
     "text": [
      "[*********************100%***********************]  1 of 1 completed\n"
     ]
    },
    {
     "name": "stdout",
     "output_type": "stream",
     "text": [
      "Trading signal for today (1254): HOLD\n",
      "{'XGBoost': np.float32(443.1953), 'RandomForest': np.float64(440.69205841064456), 'KNN': np.float64(444.05810546875)}\n",
      "\u001b[1m1/1\u001b[0m \u001b[32m━━━━━━━━━━━━━━━━━━━━\u001b[0m\u001b[37m\u001b[0m \u001b[1m0s\u001b[0m 188ms/step\n",
      "V\n"
     ]
    },
    {
     "name": "stderr",
     "output_type": "stream",
     "text": [
      "[*********************100%***********************]  1 of 1 completed\n"
     ]
    },
    {
     "name": "stdout",
     "output_type": "stream",
     "text": [
      "Trading signal for today (1254): HOLD\n",
      "{'XGBoost': np.float32(279.59695), 'RandomForest': np.float64(284.8538232421875), 'KNN': np.float64(276.5579895019531)}\n",
      "\u001b[1m1/1\u001b[0m \u001b[32m━━━━━━━━━━━━━━━━━━━━\u001b[0m\u001b[37m\u001b[0m \u001b[1m0s\u001b[0m 189ms/step\n",
      "JNJ\n"
     ]
    },
    {
     "name": "stderr",
     "output_type": "stream",
     "text": [
      "[*********************100%***********************]  1 of 1 completed\n"
     ]
    },
    {
     "name": "stdout",
     "output_type": "stream",
     "text": [
      "Trading signal for today (1254): HOLD\n",
      "{'XGBoost': np.float32(148.41719), 'RandomForest': np.float64(148.49034881591797), 'KNN': np.float64(149.09443054199218)}\n",
      "\u001b[1m1/1\u001b[0m \u001b[32m━━━━━━━━━━━━━━━━━━━━\u001b[0m\u001b[37m\u001b[0m \u001b[1m0s\u001b[0m 234ms/step\n",
      "PFE\n"
     ]
    },
    {
     "name": "stderr",
     "output_type": "stream",
     "text": [
      "[*********************100%***********************]  1 of 1 completed\n"
     ]
    },
    {
     "name": "stdout",
     "output_type": "stream",
     "text": [
      "Trading signal for today (1254): BUY\n",
      "{'XGBoost': np.float32(24.889647), 'RandomForest': np.float64(24.36674419403076), 'KNN': np.float64(25.96884346008301)}\n",
      "\u001b[1m1/1\u001b[0m \u001b[32m━━━━━━━━━━━━━━━━━━━━\u001b[0m\u001b[37m\u001b[0m \u001b[1m0s\u001b[0m 190ms/step\n",
      "XOM\n"
     ]
    },
    {
     "name": "stderr",
     "output_type": "stream",
     "text": [
      "[*********************100%***********************]  1 of 1 completed\n"
     ]
    },
    {
     "name": "stdout",
     "output_type": "stream",
     "text": [
      "Trading signal for today (1254): HOLD\n"
     ]
    }
   ],
   "source": [
    "\n",
    "for company, row in ratios.iterrows():\n",
    "    \n",
    "    R.write(f\"<h2>Entreprise : {company}</h2>\")\n",
    "    R.write(\"<h3>Ratios Importants:</h3><ul>\")\n",
    "\n",
    "    for ratio in ratios.columns:\n",
    "        value = row[ratio]\n",
    "        if pd.notnull(value): \n",
    "            R.write(f\"<li>{ratio} : {value}</li>\")\n",
    "\n",
    "    R.write(\"</ul>\")\n",
    "    print(data[company])\n",
    "    R.write(f\"<h3>Rendement journalier moyen: {get_average_return({data[company]})}</h3>\")\n",
    "    \n",
    "    if company in fincluster[\"Name\"].values:\n",
    "        cluster_id = fincluster.loc[fincluster[\"Name\"] == company, \"Cluster\"].values[0]\n",
    "        same_cluster_companies = fincluster[fincluster[\"Cluster\"] == cluster_id][\"Name\"].tolist()\n",
    "        same_cluster_companies = [name for name in same_cluster_companies if name != company]\n",
    "        R.write(f\"<h3>Entreprise semblables (profils financiers) :</h3><p>{\", \".join(same_cluster_companies)}</p> \")\n",
    "    else :\n",
    "        R.write(\"<h3>Entreprise semblables (profils financiers) :</h3><p>Aucune</p> \")\n",
    "    _,action=predict_today(f\"data\\Companies_Historical_Data\\{company}.csv\")\n",
    "    R.write(\"<h3>conseil d’investissement :</h3>\")\n",
    "    if action==\"HOLD\":\n",
    "        R.write(\"<h4 style='color: yellow'> Hold </h4>\")\n",
    "    elif action==\"SELL\":\n",
    "        R.write(\"<h4 style='color: red'> Vente </h4>\")\n",
    "    else:\n",
    "        R.write(\"<h4 style='color: green'> Achat </h4>\")\n",
    "\n",
    "    prediction4=predict4(company)\n",
    "    print(prediction4)\n",
    "    prediction5=float(predict5(company))\n",
    "    R.write(f\"<h3>Prediciton du prix de demain :</h3><p>{(prediction5+float(prediction4['XGBoost'])+float(prediction4['RandomForest'])+float(prediction4['KNN']))/4}</p> \")\n"
   ]
  }
 ],
 "metadata": {
  "kernelspec": {
   "display_name": "StatProduitsDerivees",
   "language": "python",
   "name": "python3"
  },
  "language_info": {
   "codemirror_mode": {
    "name": "ipython",
    "version": 3
   },
   "file_extension": ".py",
   "mimetype": "text/x-python",
   "name": "python",
   "nbconvert_exporter": "python",
   "pygments_lexer": "ipython3",
   "version": "3.12.3"
  }
 },
 "nbformat": 4,
 "nbformat_minor": 5
}
